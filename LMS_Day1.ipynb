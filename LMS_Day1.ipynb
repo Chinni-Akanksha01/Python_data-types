{
 "cells": [
  {
   "cell_type": "code",
   "execution_count": 1,
   "id": "f6c7bfc3",
   "metadata": {},
   "outputs": [
    {
     "name": "stdout",
     "output_type": "stream",
     "text": [
      "(1, 2, 3)\n",
      "1.2\n",
      "Akanksha\n",
      "True\n",
      "<class 'tuple'>\n",
      "<class 'float'>\n",
      "<class 'str'>\n",
      "<class 'bool'>\n"
     ]
    }
   ],
   "source": [
    "#1. Jupyter Notebook and Data Types\n",
    "#Write a program in Jupyter Notebook to declare variables of different data types (integer, float, string, and boolean). Print each variable and its type.\n",
    "var_int=1,2,3\n",
    "var_float=1.2\n",
    "var_string='Akanksha'\n",
    "var_boolean=True\n",
    "print(var_int)\n",
    "print(var_float)\n",
    "print(var_string)\n",
    "print(var_boolean)\n",
    "print(type(var_int))\n",
    "print(type(var_float))\n",
    "print(type(var_string))\n",
    "print(type(var_boolean))\n",
    "\n",
    "\n"
   ]
  },
  {
   "cell_type": "code",
   "execution_count": null,
   "id": "955aa445",
   "metadata": {},
   "outputs": [],
   "source": []
  }
 ],
 "metadata": {
  "kernelspec": {
   "display_name": "Python 3 (ipykernel)",
   "language": "python",
   "name": "python3"
  },
  "language_info": {
   "codemirror_mode": {
    "name": "ipython",
    "version": 3
   },
   "file_extension": ".py",
   "mimetype": "text/x-python",
   "name": "python",
   "nbconvert_exporter": "python",
   "pygments_lexer": "ipython3",
   "version": "3.10.9"
  }
 },
 "nbformat": 4,
 "nbformat_minor": 5
}
