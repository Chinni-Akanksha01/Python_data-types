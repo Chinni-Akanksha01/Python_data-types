{
  "nbformat": 4,
  "nbformat_minor": 0,
  "metadata": {
    "colab": {
      "provenance": [],
      "authorship_tag": "ABX9TyPWM+ukAg638EMGF3ixusyx",
      "include_colab_link": true
    },
    "kernelspec": {
      "name": "python3",
      "display_name": "Python 3"
    },
    "language_info": {
      "name": "python"
    }
  },
  "cells": [
    {
      "cell_type": "markdown",
      "metadata": {
        "id": "view-in-github",
        "colab_type": "text"
      },
      "source": [
        "<a href=\"https://colab.research.google.com/github/Chinni-Akanksha01/Python_data-types/blob/main/Python_datatypes.ipynb\" target=\"_parent\"><img src=\"https://colab.research.google.com/assets/colab-badge.svg\" alt=\"Open In Colab\"/></a>"
      ]
    },
    {
      "cell_type": "code",
      "execution_count": 1,
      "metadata": {
        "colab": {
          "base_uri": "https://localhost:8080/"
        },
        "id": "26GrYWG7t13I",
        "outputId": "34e98312-42f2-411b-a4ee-8c02c6de4480"
      },
      "outputs": [
        {
          "output_type": "stream",
          "name": "stdout",
          "text": [
            "[1, 2, 'Akanksha', 4, 5]\n",
            "['Akanksha', 'Akhila', 'Amith', 'Archana', 'Abhi']\n",
            "2\n",
            "['Akhila', 'Archana']\n"
          ]
        }
      ],
      "source": [
        "#Create a List, tuple and Dictionary with 5 elements in it and how to access few elements based on the index. Try  with different examples\n",
        "\n",
        "#List\n",
        "my_list1=[1,2,'Akanksha',4,5]\n",
        "my_list2=['Akanksha','Akhila','Amith','Archana','Abhi']\n",
        "\n",
        "print(my_list1)\n",
        "print(my_list2)\n",
        "print(my_list1[1])\n",
        "print(my_list2[1:4:2])"
      ]
    },
    {
      "cell_type": "code",
      "source": [
        "#Tuple\n",
        "\n",
        "my_tuple=(10,9,'Apple',88,2)\n",
        "\n",
        "print(my_tuple)\n",
        "print(my_tuple[1])\n",
        "print(my_tuple[1:4:2])"
      ],
      "metadata": {
        "colab": {
          "base_uri": "https://localhost:8080/"
        },
        "id": "1gMpRieWuHHx",
        "outputId": "c78b18a4-75b0-4aa9-af67-d4b8b7e35d54"
      },
      "execution_count": 2,
      "outputs": [
        {
          "output_type": "stream",
          "name": "stdout",
          "text": [
            "(10, 9, 'Apple', 88, 2)\n",
            "9\n",
            "(9, 88)\n"
          ]
        }
      ]
    },
    {
      "cell_type": "code",
      "source": [
        "#Dictionary\n",
        "employee={\n",
        "\n",
        "    'emp_Id':1,\n",
        "    'emp_name':'Shyam',\n",
        "    'emp_phone_no':9898989090,\n",
        "    'emp_address':'Hyderabad',\n",
        "    'emp_phone_no2':8989898080\n",
        "}\n",
        "print(employee)\n",
        "print(employee['emp_address'])\n",
        "print(employee['emp_phone_no2'])"
      ],
      "metadata": {
        "colab": {
          "base_uri": "https://localhost:8080/"
        },
        "id": "zWGci3lruQOm",
        "outputId": "4a7b4f76-cd8c-47ab-dc2d-173e254a8b70"
      },
      "execution_count": 3,
      "outputs": [
        {
          "output_type": "stream",
          "name": "stdout",
          "text": [
            "{'emp_Id': 1, 'emp_name': 'Shyam', 'emp_phone_no': 9898989090, 'emp_address': 'Hyderabad', 'emp_phone_no2': 8989898080}\n",
            "Hyderabad\n",
            "8989898080\n"
          ]
        }
      ]
    }
  ]
}